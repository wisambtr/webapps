{
 "cells": [
  {
   "cell_type": "code",
   "execution_count": 2,
   "id": "e637f2e5",
   "metadata": {},
   "outputs": [],
   "source": [
    "import pandas as pd\n",
    "import numpy as np\n",
    "import ipywidgets as widgets\n",
    "from IPython.display import display\n",
    "from sklearn.metrics import accuracy_score\n",
    "from sklearn.model_selection import train_test_split\n",
    "from sklearn.ensemble import RandomForestClassifier\n",
    "from PIL import Image\n",
    "import streamlit as st\n",
    "\n",
    "import matplotlib.pyplot as plt\n",
    "\n",
    "import warnings\n",
    "warnings.filterwarnings('ignore')\n",
    "import ipywidgets as widgets\n",
    "from IPython.display import display, clear_output\n",
    "\n",
    "from IPython.core.interactiveshell import InteractiveShell\n",
    "InteractiveShell.ast_node_interactivity = \"all\""
   ]
  },
  {
   "cell_type": "code",
   "execution_count": 3,
   "id": "ab8cbf75",
   "metadata": {},
   "outputs": [],
   "source": [
    "#!jupyter nbextension enable --py widgetsnbextension --sys-prefix\n",
    "#!jupyter serverextension enable voila --sys-prefix"
   ]
  },
  {
   "cell_type": "code",
   "execution_count": 3,
   "id": "f260a4d4",
   "metadata": {},
   "outputs": [],
   "source": [
    "# Image Widget\n",
    "file = open ('Pic.jpg', 'rb')\n",
    "image = file.read()\n",
    "\n",
    "image_headline = widgets.Image(\n",
    "                      value=image,\n",
    "                      format='jpg',\n",
    "                      width='300'\n",
    "                  )\n",
    "\n",
    "label_headline = widgets.Label(\n",
    "                      value='Photo by mobile camera at home',\n",
    "                      style={'description_width':'initial'}\n",
    "                 )\n",
    "\n",
    "vbox_headline = widgets.VBox([image_headline, label_headline])"
   ]
  },
  {
   "cell_type": "code",
   "execution_count": 4,
   "id": "effd0e0f",
   "metadata": {},
   "outputs": [],
   "source": [
    "# button Suggest\n",
    "\n",
    "import pandas as pd\n",
    "from sklearn.ensemble import RandomForestClassifier\n",
    "import joblib as jb\n",
    "\n",
    "button_suggest = widgets.Button(\n",
    "                description='Suggestion',\n",
    "                tooltip='Suggest',\n",
    "                style={'description_width': 'initial'}\n",
    "            )\n",
    "\n",
    "output = widgets.Output()\n",
    "\n",
    "def on_button_clicked(event):\n",
    "    with output:\n",
    "        clear_output()\n",
    "        ab=[gender.value,age.value,bloodGroup.value,comorbidityCount.value,aPaatos.value, bPsys.value,bPdias.value,bMI.value]\n",
    "        \n",
    "        if None in ab :\n",
    "            print(\"Please fill all the variables!\")\n",
    "        else:\n",
    "            model = jb.load('Pt2-recommender.joblib')\n",
    "            prediction = model.predict([ab])\n",
    "            print(prediction)\n",
    "            if prediction in [1] :\n",
    "                print(\"The suggested home dialysis modality is:\")\n",
    "                print(f\"             'CAPD' \")\n",
    "            elif prediction in [2] :\n",
    "                print(\"The suggested home dialysis modality is:\")\n",
    "                print(f\"              'APD' \")\n",
    "            elif prediction in [3] : \n",
    "                print(\"The suggested home dialysis modality is:\")\n",
    "                print(f\"            'Home HD' \") \n",
    "                    \n",
    " \n",
    "\n",
    " \n",
    "button_suggest.on_click(on_button_clicked)\n",
    "\n",
    "vbox_result = widgets.VBox([button_suggest, output])"
   ]
  },
  {
   "cell_type": "code",
   "execution_count": null,
   "id": "b70e89e8",
   "metadata": {},
   "outputs": [],
   "source": [
    "# button refresh\n",
    "\n",
    "button_refresh = widgets.Button(description='Refresh', tooltip='Refresh',style={'description_width': 'initial'})\n"
   ]
  },
  {
   "cell_type": "code",
   "execution_count": 5,
   "id": "107f88dc",
   "metadata": {},
   "outputs": [
    {
     "data": {
      "application/vnd.jupyter.widget-view+json": {
       "model_id": "829ed4be96d5475ba0932df77d268193",
       "version_major": 2,
       "version_minor": 0
      },
      "text/plain": [
       "HBox(children=(VBox(children=(Image(value=b'\\xff\\xd8\\xff\\xe0\\x00\\x10JFIF\\x00\\x01\\x01\\x01\\x00H\\x00H\\x00\\x00\\xff…"
      ]
     },
     "metadata": {},
     "output_type": "display_data"
    }
   ],
   "source": [
    "gender = widgets.RadioButtons(options={'Male':1, 'Female':2}, description='Gender', value = None, disabled=False)\n",
    "age = widgets.IntSlider(description='Age',value=18,min=18, max=120,step=1,disabled=False,continuous_update=False,\n",
    "                                                          orientation='horizontal',readout=True,readout_format='d')\n",
    "bloodGroup = widgets.RadioButtons(options = {'A pos':1, 'A neg':2, 'B pos':3, 'B neg':4, \n",
    "                                              'AB pos':5, 'AB neg':6, 'O pos':7, 'O neg':8},\n",
    "                                  description = 'Blood group',value = None, disabled=False)\n",
    "comorbidityCount = widgets.IntSlider(description='Comorbidity count', value=0,min=0,max=20,step=1, disabled=False,\n",
    "                                     continuous_update=False,orientation='horizontal',\n",
    "                                     readout=True,readout_format='d',style={'description_width': 'initial'})\n",
    "aPaatos = widgets.RadioButtons(description = 'A-päätös', options={'No':0, 'Yes':1}, value = None,disable=False)\n",
    "bPsys =  widgets.IntSlider( description='BPsys',value=120, min=70,max=220,step=1,disabled=False,continuous_update=True,\n",
    "                            orientation='horizontal',readout=True,readout_format='d')\n",
    "bPdias =  widgets.IntSlider(description='BPdias', value=80,min=40,max=110,step=1,disabled=False,continuous_update=True,\n",
    "                            orientation='horizontal',readout=True,readout_format='d')\n",
    "bMI =  widgets.IntSlider(description='BMI', value=20,min=0,max=50,step=1,disabled=False,continuous_update=True,\n",
    "                            orientation='horizontal',readout=True,readout_format='d')\n",
    "\n",
    "\n",
    "\n",
    "\n",
    "def sol(gender, age, bloodGroup, comorbidityCount, aPaatos, bPsys, bPdias, bMI):\n",
    "    out_sol = widgets.interactive_output(sol, {'Gender':gender, 'Age':age, 'Blood group':bloodGroup,\n",
    "                                           'Comorbidity count':comorbidityCount, 'A-päätös':aPaatos, \n",
    "                                           'BPsys':bPsys, 'BPdias':bPdias, 'BMI':bMI})\n",
    "    \n",
    "    \n",
    "page = widgets.HBox([vbox_headline, widgets.VBox([gender, age, bloodGroup, comorbidityCount,\n",
    "                                                  aPaatos, bPsys, bPdias, bMI,vbox_result])])\n",
    "display(page)"
   ]
  }
 ],
 "metadata": {
  "kernelspec": {
   "display_name": "Python 3 (ipykernel)",
   "language": "python",
   "name": "python3"
  },
  "language_info": {
   "codemirror_mode": {
    "name": "ipython",
    "version": 3
   },
   "file_extension": ".py",
   "mimetype": "text/x-python",
   "name": "python",
   "nbconvert_exporter": "python",
   "pygments_lexer": "ipython3",
   "version": "3.8.13"
  }
 },
 "nbformat": 4,
 "nbformat_minor": 5
}
